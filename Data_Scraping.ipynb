{
 "cells": [
  {
   "cell_type": "markdown",
   "metadata": {},
   "source": [
    "# Project 2 Data sources:\n",
    "\n",
    "## Observed dependent variable:\n",
    "* Drug-induced mortality per county for 2016\n",
    "* reach: opioid-induced mortality per county for 2016\n",
    "* double-reach: opioid-induced mortality per county over 5 years, 2011 - 2016\n",
    "\n",
    "## Independent variables/regressors:\n",
    "\n",
    "### Medical:\n",
    "* Age of electronic PDMP per state\n",
    "* Number of methadone clinics per county\n",
    "* Prescribing map -> rate of opioid prescriptions per 100 US residents\n",
    "\n",
    "### Legislative:\n",
    "* Number of bills per state that contain the word 'opioid'\n",
    "\n",
    "### Economic:\n",
    "* Poverty\n",
    "* Percent unemployment\n",
    "* Median salary\n",
    "\n",
    "### Demographic:\n",
    "* Median age\n",
    "* Percentage minority\n",
    "* Education - percentage high school grad or higher"
   ]
  },
  {
   "cell_type": "markdown",
   "metadata": {},
   "source": [
    "Websites for data sources:\n",
    "* https://wonder.cdc.gov/\n",
    "* https://www.bls.gov/lau/data.htm\n",
    "* https://censusreporter.org/"
   ]
  },
  {
   "cell_type": "markdown",
   "metadata": {},
   "source": [
    "### Economic and Demograhic data\n",
    "\n",
    "Let's start with the easiest scraping first, which is going to be economic and demographic data.\n",
    "\n",
    "The more in-depth way to do this would be to figure out how to use the US Census API to get the 6 variables I specified, but as an intermediate step I'm going to scrape CensusReporter.com first since those pages are much easier."
   ]
  },
  {
   "cell_type": "markdown",
   "metadata": {},
   "source": [
    "First, get a list of all of the counties along with their states and INCITS from this page: https://en.wikipedia.org/wiki/List_of_United_States_counties_and_county_equivalents"
   ]
  },
  {
   "cell_type": "code",
   "execution_count": 1,
   "metadata": {},
   "outputs": [],
   "source": [
    "import requests\n",
    "import pandas as pd\n",
    "import matplotlib.pyplot as plt\n",
    "import numpy as np\n",
    "import re\n",
    "\n",
    "from bs4 import BeautifulSoup"
   ]
  },
  {
   "cell_type": "code",
   "execution_count": 2,
   "metadata": {},
   "outputs": [],
   "source": [
    "url = \"https://en.wikipedia.org/wiki/List_of_United_States_counties_and_county_equivalents\"\n",
    "response = requests.get(url)\n",
    "page = response.text\n",
    "soup = BeautifulSoup(page, \"html5lib\")"
   ]
  },
  {
   "cell_type": "code",
   "execution_count": 3,
   "metadata": {},
   "outputs": [],
   "source": [
    "table = soup.select_one('table[class*=\"wikitable\"]')\n",
    "rows = [row for row in table.find_all(\"tr\")]"
   ]
  },
  {
   "cell_type": "code",
   "execution_count": 4,
   "metadata": {},
   "outputs": [],
   "source": [
    "# Remove the first <tr> element, which is the header row for the wikitable.\n",
    "rows = rows[1:]\n",
    "\n",
    "county_df = pd.DataFrame(columns=['INCITS', 'county_name', 'state'])\n",
    "\n",
    "for row in rows:\n",
    "    elements = row.find_all(\"td\")\n",
    "    elements = [element.text.strip() for element in elements]\n",
    "    county_df = county_df.append({'INCITS': elements[0], 'county_name': elements[1], 'state': elements[2]}, ignore_index=True)"
   ]
  },
  {
   "cell_type": "code",
   "execution_count": 5,
   "metadata": {},
   "outputs": [
    {
     "data": {
      "text/html": [
       "<div>\n",
       "<style scoped>\n",
       "    .dataframe tbody tr th:only-of-type {\n",
       "        vertical-align: middle;\n",
       "    }\n",
       "\n",
       "    .dataframe tbody tr th {\n",
       "        vertical-align: top;\n",
       "    }\n",
       "\n",
       "    .dataframe thead th {\n",
       "        text-align: right;\n",
       "    }\n",
       "</style>\n",
       "<table border=\"1\" class=\"dataframe\">\n",
       "  <thead>\n",
       "    <tr style=\"text-align: right;\">\n",
       "      <th></th>\n",
       "      <th>INCITS</th>\n",
       "      <th>county_name</th>\n",
       "      <th>state</th>\n",
       "    </tr>\n",
       "  </thead>\n",
       "  <tbody>\n",
       "    <tr>\n",
       "      <th>0</th>\n",
       "      <td>01001</td>\n",
       "      <td>Autauga County</td>\n",
       "      <td>Alabama</td>\n",
       "    </tr>\n",
       "    <tr>\n",
       "      <th>1</th>\n",
       "      <td>01003</td>\n",
       "      <td>Baldwin County</td>\n",
       "      <td>Alabama</td>\n",
       "    </tr>\n",
       "    <tr>\n",
       "      <th>2</th>\n",
       "      <td>01005</td>\n",
       "      <td>Barbour County</td>\n",
       "      <td>Alabama</td>\n",
       "    </tr>\n",
       "    <tr>\n",
       "      <th>3</th>\n",
       "      <td>01007</td>\n",
       "      <td>Bibb County</td>\n",
       "      <td>Alabama</td>\n",
       "    </tr>\n",
       "    <tr>\n",
       "      <th>4</th>\n",
       "      <td>01009</td>\n",
       "      <td>Blount County</td>\n",
       "      <td>Alabama</td>\n",
       "    </tr>\n",
       "  </tbody>\n",
       "</table>\n",
       "</div>"
      ],
      "text/plain": [
       "  INCITS     county_name    state\n",
       "0  01001  Autauga County  Alabama\n",
       "1  01003  Baldwin County  Alabama\n",
       "2  01005  Barbour County  Alabama\n",
       "3  01007     Bibb County  Alabama\n",
       "4  01009   Blount County  Alabama"
      ]
     },
     "execution_count": 5,
     "metadata": {},
     "output_type": "execute_result"
    }
   ],
   "source": [
    "county_df.head()"
   ]
  },
  {
   "cell_type": "code",
   "execution_count": 6,
   "metadata": {},
   "outputs": [
    {
     "data": {
      "text/plain": [
       "array(['Alabama', 'Alaska', 'American Samoa', 'Arizona', 'Arkansas',\n",
       "       'California', 'Colorado', 'Connecticut', 'Delaware',\n",
       "       'District of Columbia', 'Florida', 'Georgia', 'Guam', 'Hawaiʻi',\n",
       "       'Idaho', 'Illinois', 'Indiana', 'Iowa', 'Kansas', 'Kentucky',\n",
       "       'Louisiana', 'Maine', 'Maryland', 'Massachusetts', 'Michigan',\n",
       "       'Minnesota', 'Mississippi', 'Missouri', 'Montana', 'Nebraska',\n",
       "       'Nevada', 'New Hampshire', 'New Jersey', 'New Mexico', 'New York',\n",
       "       'North Carolina', 'North Dakota', 'Northern Mariana Islands',\n",
       "       'Ohio', 'Oklahoma', 'Oregon', 'Pennsylvania', 'Puerto Rico',\n",
       "       'Rhode Island', 'South Carolina', 'South Dakota', 'Tennessee',\n",
       "       'Texas', 'U.S. Minor Outlying Islands', 'Utah', 'Vermont',\n",
       "       'Virgin Islands (U.S.)', 'Virginia', 'Washington', 'West Virginia',\n",
       "       'Wisconsin', 'Wyoming'], dtype=object)"
      ]
     },
     "execution_count": 6,
     "metadata": {},
     "output_type": "execute_result"
    }
   ],
   "source": [
    "county_df['state'].unique()"
   ]
  },
  {
   "cell_type": "code",
   "execution_count": 7,
   "metadata": {},
   "outputs": [],
   "source": [
    "# There are 'states' included that are not actually states. Let's make a list of them.\n",
    "not_states = ['American Samoa', 'Guam', 'Northern Mariana Islands', 'Puerto Rico', 'U.S. Minor Outlying Islands', 'Virgin Islands (U.S.)']"
   ]
  },
  {
   "cell_type": "code",
   "execution_count": 8,
   "metadata": {},
   "outputs": [],
   "source": [
    "# Now, let's remove all of the entries for these 'not states' from the data frame.\n",
    "county_df = county_df[~county_df.state.isin(not_states)]"
   ]
  },
  {
   "cell_type": "code",
   "execution_count": 9,
   "metadata": {},
   "outputs": [
    {
     "data": {
      "text/plain": [
       "array(['Alabama', 'Alaska', 'Arizona', 'Arkansas', 'California',\n",
       "       'Colorado', 'Connecticut', 'Delaware', 'District of Columbia',\n",
       "       'Florida', 'Georgia', 'Hawaiʻi', 'Idaho', 'Illinois', 'Indiana',\n",
       "       'Iowa', 'Kansas', 'Kentucky', 'Louisiana', 'Maine', 'Maryland',\n",
       "       'Massachusetts', 'Michigan', 'Minnesota', 'Mississippi',\n",
       "       'Missouri', 'Montana', 'Nebraska', 'Nevada', 'New Hampshire',\n",
       "       'New Jersey', 'New Mexico', 'New York', 'North Carolina',\n",
       "       'North Dakota', 'Ohio', 'Oklahoma', 'Oregon', 'Pennsylvania',\n",
       "       'Rhode Island', 'South Carolina', 'South Dakota', 'Tennessee',\n",
       "       'Texas', 'Utah', 'Vermont', 'Virginia', 'Washington',\n",
       "       'West Virginia', 'Wisconsin', 'Wyoming'], dtype=object)"
      ]
     },
     "execution_count": 9,
     "metadata": {},
     "output_type": "execute_result"
    }
   ],
   "source": [
    "# Confirm that there are only states and the District of Columbia left.\n",
    "\n",
    "county_df['state'].unique()"
   ]
  },
  {
   "cell_type": "markdown",
   "metadata": {},
   "source": [
    "Now, let's use Censusreporter.org to get the census data we are interested in. This website provides based on the ACS (American Communities Survey) 2016 5-year data, queried from the US Census."
   ]
  },
  {
   "cell_type": "code",
   "execution_count": 10,
   "metadata": {},
   "outputs": [
    {
     "name": "stdout",
     "output_type": "stream",
     "text": [
      "Autauga County, AL\n",
      "Baldwin County, AL\n",
      "Barbour County, AL\n"
     ]
    }
   ],
   "source": [
    "census_reporter_query = \"https://censusreporter.org/profiles/05000US{}\"\n",
    "\n",
    "mini_county_df = county_df.iloc[0:3]\n",
    "\n",
    "for incit in mini_county_df['INCITS']:\n",
    "    response = requests.get(census_reporter_query.format(incit))\n",
    "    page = response.text\n",
    "    soup = BeautifulSoup(page, \"html5lib\")\n",
    "    county_name = soup.select_one(\"h1\")\n",
    "    print(county_name.text)"
   ]
  },
  {
   "cell_type": "code",
   "execution_count": 56,
   "metadata": {},
   "outputs": [
    {
     "name": "stdout",
     "output_type": "stream",
     "text": [
      "Median age is 38.7±0.6\n",
      "38.7\n",
      "Per capita income is $17,249±$822\n",
      "17249\n",
      "Median household income is $33,956±$2,655\n",
      "33956\n",
      "Persons below poverty line is 26.4%±2.7%(6,235±636)\n",
      "26.4\n",
      "Mean travel time to work is 23.7minutes±1.7(205,890±17,933)\n",
      "23.7\n",
      "Number of households is 9,122±286\n",
      "9122\n",
      "Persons per household is 2.6±0.1(23,682±244)\n",
      "2.6\n",
      "Women 15-50 who gave birth during past year is 5%±1.8%(252±92)\n",
      "5\n",
      "Number of housing units is 11,802±101\n",
      "11802\n",
      "Median value of owner-occupied housing units is $90,300±$7,258\n",
      "90300\n",
      "Moved since previous year is 12.4%±1.4%(3,262±373.4)\n",
      "12.4\n",
      "High school grad or higher is 73.8%±3.1%(13,563±573.2)\n",
      "73.8\n",
      "Bachelor's degree or higher is 12.9%±1.5%(2,366±270.8)\n",
      "12.9\n",
      "Persons with language other than English spoken at home is N/A\n",
      "/\n",
      "Foreign-born population is 2.9%±0.3%(761±82)\n",
      "2.9\n",
      "Population with veteran status is 8.4%±0.8%(1,751±173)\n",
      "8.4\n",
      "Total veterans is 1,751\n",
      "1751\n"
     ]
    }
   ],
   "source": [
    "# Let's pull the relevant 6 parameters for Barbour County.\n",
    "# For economic parameters, I want % poverty, % unemployment, and median salary.\n",
    "# For demographics, I want median age, percentage minority, and education (percentage high school grad)\n",
    "# We can go ahead and print all of the stats within any element that belongs to a class w/ the word 'stat'.\n",
    "    \n",
    "stats = soup.select('a[class*=\"stat\"]')\n",
    "for stat in stats:\n",
    "    val = stat.select_one('span[class=\"value\"]').text\n",
    "    whitespace = r'[\\s\\t\\n]*'\n",
    "    val = re.sub(whitespace, \"\", val) # There's a lot of weird whitespace in the class=value element, so strip all of it out.\n",
    "    \n",
    "    name = stat.select_one('span[class=\"name\"]').text.strip()\n",
    "    \n",
    "    print(\"{} is {}\".format(name, val))\n",
    "    \n",
    "    val2 = val.split(\"±\")[0]\n",
    "    regex = r'([a-zA-Z\\$,\\%])*'\n",
    "    print(re.sub(regex, \"\", val2))\n",
    "\n",
    "# The code above will get you % poverty (index 3), median salary (index 2) (2/3 economic parameters), \n",
    "# median age (index 0), and education (2/3 demographic parameters).\n",
    "# To get percent unemployment by county, will have to use the Bureau of Labor Statistics instead."
   ]
  },
  {
   "cell_type": "code",
   "execution_count": 80,
   "metadata": {},
   "outputs": [
    {
     "data": {
      "text/plain": [
       "dict_values(['median_age', 'median_hh_income', 'poverty_percent', 'hs_percent'])"
      ]
     },
     "execution_count": 80,
     "metadata": {},
     "output_type": "execute_result"
    }
   ],
   "source": [
    "census_reporter_dict = ({\"Median age\": \"median_age\", \n",
    "                         \"Median household income\": \"median_hh_income\", \n",
    "                         \"Persons below poverty line\": \"poverty_percent\",\n",
    "                         \"High school grad or higher\": \"hs_percent\"\n",
    "                        })\n",
    "\n",
    "census_reporter_dict.values()"
   ]
  },
  {
   "cell_type": "code",
   "execution_count": 81,
   "metadata": {},
   "outputs": [
    {
     "name": "stdout",
     "output_type": "stream",
     "text": [
      "['INCITS', 'median_age', 'median_hh_income', 'poverty_percent', 'hs_percent']\n"
     ]
    },
    {
     "data": {
      "text/html": [
       "<div>\n",
       "<style scoped>\n",
       "    .dataframe tbody tr th:only-of-type {\n",
       "        vertical-align: middle;\n",
       "    }\n",
       "\n",
       "    .dataframe tbody tr th {\n",
       "        vertical-align: top;\n",
       "    }\n",
       "\n",
       "    .dataframe thead th {\n",
       "        text-align: right;\n",
       "    }\n",
       "</style>\n",
       "<table border=\"1\" class=\"dataframe\">\n",
       "  <thead>\n",
       "    <tr style=\"text-align: right;\">\n",
       "      <th></th>\n",
       "      <th>INCITS</th>\n",
       "      <th>median_age</th>\n",
       "      <th>median_hh_income</th>\n",
       "      <th>poverty_percent</th>\n",
       "      <th>hs_percent</th>\n",
       "    </tr>\n",
       "  </thead>\n",
       "  <tbody>\n",
       "  </tbody>\n",
       "</table>\n",
       "</div>"
      ],
      "text/plain": [
       "Empty DataFrame\n",
       "Columns: [INCITS, median_age, median_hh_income, poverty_percent, hs_percent]\n",
       "Index: []"
      ]
     },
     "execution_count": 81,
     "metadata": {},
     "output_type": "execute_result"
    }
   ],
   "source": [
    "cols = ['INCITS']\n",
    "cols.extend(list(census_reporter_dict.values()))\n",
    "print(cols)\n",
    "census_reporter_df = pd.DataFrame(columns = cols)\n",
    "census_reporter_df"
   ]
  },
  {
   "cell_type": "code",
   "execution_count": 87,
   "metadata": {},
   "outputs": [
    {
     "name": "stdout",
     "output_type": "stream",
     "text": [
      "{'INCITS': '01005', 'median_age': '38.7', 'median_hh_income': '33956', 'poverty_percent': '26.4', 'hs_percent': '73.8'}\n"
     ]
    },
    {
     "data": {
      "text/html": [
       "<div>\n",
       "<style scoped>\n",
       "    .dataframe tbody tr th:only-of-type {\n",
       "        vertical-align: middle;\n",
       "    }\n",
       "\n",
       "    .dataframe tbody tr th {\n",
       "        vertical-align: top;\n",
       "    }\n",
       "\n",
       "    .dataframe thead th {\n",
       "        text-align: right;\n",
       "    }\n",
       "</style>\n",
       "<table border=\"1\" class=\"dataframe\">\n",
       "  <thead>\n",
       "    <tr style=\"text-align: right;\">\n",
       "      <th></th>\n",
       "      <th>INCITS</th>\n",
       "      <th>median_age</th>\n",
       "      <th>median_hh_income</th>\n",
       "      <th>poverty_percent</th>\n",
       "      <th>hs_percent</th>\n",
       "    </tr>\n",
       "  </thead>\n",
       "  <tbody>\n",
       "    <tr>\n",
       "      <th>0</th>\n",
       "      <td>01005</td>\n",
       "      <td>38.7</td>\n",
       "      <td>33956</td>\n",
       "      <td>26.4</td>\n",
       "      <td>73.8</td>\n",
       "    </tr>\n",
       "  </tbody>\n",
       "</table>\n",
       "</div>"
      ],
      "text/plain": [
       "  INCITS median_age median_hh_income poverty_percent hs_percent\n",
       "0  01005       38.7            33956            26.4       73.8"
      ]
     },
     "execution_count": 87,
     "metadata": {},
     "output_type": "execute_result"
    }
   ],
   "source": [
    "stats = soup.select('a[class*=\"stat\"]')\n",
    "new_dict = {}\n",
    "new_dict['INCITS'] = incit\n",
    "for stat in stats:\n",
    "    val = stat.select_one('span[class=\"value\"]').text\n",
    "    whitespace = r'[\\s\\t\\n]*'\n",
    "    val = re.sub(whitespace, \"\", val) # There's a lot of weird whitespace in the class=value element, so strip all of it out.\n",
    "    \n",
    "    val = val.split(\"±\")[0] # A few of these stats have +/- ranges on them; we only want the main value, so split and get the first element.\n",
    "    regex = r'([a-zA-Z\\$,\\%])*'\n",
    "    val = re.sub(regex, \"\", val) # Strip out all the letters, dollar signs, commas, and percentage signs as well.\n",
    "    \n",
    "    name = stat.select_one('span[class=\"name\"]').text.strip()\n",
    "    \n",
    "    if name in census_reporter_dict:\n",
    "        new_dict[census_reporter_dict[name]] = val\n",
    "\n",
    "print(new_dict)\n",
    "census_reporter_df.append(new_dict, ignore_index=True)"
   ]
  },
  {
   "cell_type": "code",
   "execution_count": null,
   "metadata": {},
   "outputs": [],
   "source": []
  }
 ],
 "metadata": {
  "kernelspec": {
   "display_name": "Python 3",
   "language": "python",
   "name": "python3"
  },
  "language_info": {
   "codemirror_mode": {
    "name": "ipython",
    "version": 3
   },
   "file_extension": ".py",
   "mimetype": "text/x-python",
   "name": "python",
   "nbconvert_exporter": "python",
   "pygments_lexer": "ipython3",
   "version": "3.6.5"
  }
 },
 "nbformat": 4,
 "nbformat_minor": 2
}
