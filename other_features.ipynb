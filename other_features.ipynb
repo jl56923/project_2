{
 "cells": [
  {
   "cell_type": "markdown",
   "metadata": {},
   "source": [
    "## Obtaining other features"
   ]
  },
  {
   "cell_type": "markdown",
   "metadata": {},
   "source": [
    "### Opioid prescribing map, 2016\n",
    "https://www.cdc.gov/drugoverdose/maps/rxcounty2016.html"
   ]
  },
  {
   "cell_type": "code",
   "execution_count": 1,
   "metadata": {},
   "outputs": [],
   "source": [
    "import requests\n",
    "import pandas as pd\n",
    "import matplotlib.pyplot as plt\n",
    "import numpy as np\n",
    "import re\n",
    "import pickle\n",
    "import time\n",
    "from bs4 import BeautifulSoup"
   ]
  },
  {
   "cell_type": "code",
   "execution_count": 2,
   "metadata": {},
   "outputs": [],
   "source": [
    "prescription_map_2016_url = \"https://www.cdc.gov/drugoverdose/maps/rxcounty2016.html\"\n",
    "\n",
    "def get_rx_map(url):\n",
    "    response = requests.get(url)\n",
    "    page = response.text\n",
    "\n",
    "    soup = BeautifulSoup(page, \"html5lib\")\n",
    "\n",
    "    tables = soup.find_all(\"table\")\n",
    "\n",
    "    tables=soup.find_all(\"table\")\n",
    "    rows=[row for row in tables[0].find_all('tr')]\n",
    "\n",
    "    records = []\n",
    "\n",
    "    for row in rows:\n",
    "        cells = [cell.text for cell in row.find_all('td')]\n",
    "        records.append(cells)\n",
    "\n",
    "    records = records[1:]\n",
    "    records = [[r[1], r[2], r[3]] for r in records]\n",
    "    \n",
    "    return records"
   ]
  },
  {
   "cell_type": "code",
   "execution_count": 3,
   "metadata": {},
   "outputs": [],
   "source": [
    "rx_2016 = get_rx_map(prescription_map_2016_url)"
   ]
  },
  {
   "cell_type": "code",
   "execution_count": 4,
   "metadata": {},
   "outputs": [],
   "source": [
    "opioid_rx_df = pd.DataFrame(rx_2016, columns=[\"state\", \"INCITS\", \"opioid_rx_rate_2016\"])"
   ]
  },
  {
   "cell_type": "code",
   "execution_count": 5,
   "metadata": {},
   "outputs": [],
   "source": [
    "prescription_map_2015_url = \"https://www.cdc.gov/drugoverdose/maps/rxcounty2015.html\"\n",
    "\n",
    "rx_2015 = get_rx_map(prescription_map_2015_url)\n",
    "\n",
    "opioid_rx_2015 = pd.DataFrame(rx_2015, columns=[\"state\", \"INCITS\", \"opioid_rx_rate_2015\"])"
   ]
  },
  {
   "cell_type": "code",
   "execution_count": 6,
   "metadata": {},
   "outputs": [],
   "source": [
    "opioid_rx_df = pd.merge(opioid_rx_df, opioid_rx_2015[['INCITS','opioid_rx_rate_2015']], on='INCITS')"
   ]
  },
  {
   "cell_type": "code",
   "execution_count": 7,
   "metadata": {},
   "outputs": [
    {
     "data": {
      "text/plain": [
       "(3143, 4)"
      ]
     },
     "execution_count": 7,
     "metadata": {},
     "output_type": "execute_result"
    }
   ],
   "source": [
    "opioid_rx_df.shape"
   ]
  },
  {
   "cell_type": "code",
   "execution_count": 8,
   "metadata": {},
   "outputs": [],
   "source": [
    "prescription_map_2014_url = \"https://www.cdc.gov/drugoverdose/maps/rxcounty2014.html\"\n",
    "\n",
    "rx_2014 = get_rx_map(prescription_map_2014_url)\n",
    "\n",
    "opioid_rx_2014 = pd.DataFrame(rx_2014, columns=[\"state\", \"INCITS\", \"opioid_rx_rate_2014\"])\n",
    "\n",
    "opioid_rx_df = pd.merge(opioid_rx_df, opioid_rx_2014[['INCITS','opioid_rx_rate_2014']], on='INCITS')"
   ]
  },
  {
   "cell_type": "code",
   "execution_count": 10,
   "metadata": {},
   "outputs": [
    {
     "data": {
      "text/html": [
       "<div>\n",
       "<style scoped>\n",
       "    .dataframe tbody tr th:only-of-type {\n",
       "        vertical-align: middle;\n",
       "    }\n",
       "\n",
       "    .dataframe tbody tr th {\n",
       "        vertical-align: top;\n",
       "    }\n",
       "\n",
       "    .dataframe thead th {\n",
       "        text-align: right;\n",
       "    }\n",
       "</style>\n",
       "<table border=\"1\" class=\"dataframe\">\n",
       "  <thead>\n",
       "    <tr style=\"text-align: right;\">\n",
       "      <th></th>\n",
       "      <th>state</th>\n",
       "      <th>INCITS</th>\n",
       "      <th>opioid_rx_rate_2016</th>\n",
       "      <th>opioid_rx_rate_2015</th>\n",
       "      <th>opioid_rx_rate_2014</th>\n",
       "    </tr>\n",
       "  </thead>\n",
       "  <tbody>\n",
       "    <tr>\n",
       "      <th>0</th>\n",
       "      <td>AK</td>\n",
       "      <td>02013</td>\n",
       "      <td>–</td>\n",
       "      <td>–</td>\n",
       "      <td>–</td>\n",
       "    </tr>\n",
       "    <tr>\n",
       "      <th>1</th>\n",
       "      <td>AK</td>\n",
       "      <td>02016</td>\n",
       "      <td>–</td>\n",
       "      <td>–</td>\n",
       "      <td>–</td>\n",
       "    </tr>\n",
       "    <tr>\n",
       "      <th>2</th>\n",
       "      <td>AK</td>\n",
       "      <td>02020</td>\n",
       "      <td>66.3</td>\n",
       "      <td>68.2</td>\n",
       "      <td>68.0</td>\n",
       "    </tr>\n",
       "    <tr>\n",
       "      <th>3</th>\n",
       "      <td>AK</td>\n",
       "      <td>02050</td>\n",
       "      <td>–</td>\n",
       "      <td>–</td>\n",
       "      <td>–</td>\n",
       "    </tr>\n",
       "    <tr>\n",
       "      <th>4</th>\n",
       "      <td>AK</td>\n",
       "      <td>02060</td>\n",
       "      <td>–</td>\n",
       "      <td>–</td>\n",
       "      <td>–</td>\n",
       "    </tr>\n",
       "  </tbody>\n",
       "</table>\n",
       "</div>"
      ],
      "text/plain": [
       "  state INCITS opioid_rx_rate_2016 opioid_rx_rate_2015 opioid_rx_rate_2014\n",
       "0    AK  02013                   –                   –                   –\n",
       "1    AK  02016                   –                   –                   –\n",
       "2    AK  02020                66.3                68.2                68.0\n",
       "3    AK  02050                   –                   –                   –\n",
       "4    AK  02060                   –                   –                   –"
      ]
     },
     "execution_count": 10,
     "metadata": {},
     "output_type": "execute_result"
    }
   ],
   "source": [
    "opioid_rx_df.head()"
   ]
  },
  {
   "cell_type": "code",
   "execution_count": 13,
   "metadata": {},
   "outputs": [],
   "source": [
    "#master_df = master_df[master_df.columns].apply(pd.to_numeric)\n",
    "year_cols = ['opioid_rx_rate_2016', 'opioid_rx_rate_2015', 'opioid_rx_rate_2014']\n",
    "opioid_rx_df[year_cols] = opioid_rx_df[year_cols].apply(pd.to_numeric, errors='coerce')"
   ]
  },
  {
   "cell_type": "code",
   "execution_count": 18,
   "metadata": {},
   "outputs": [],
   "source": [
    "state_avg = opioid_rx_df.groupby('state').mean()\n",
    "\n",
    "# df[\"value\"] = df.groupby(\"name\")[\"value\"].transform(lambda x: x.fillna(x.mean()))\n",
    "# https://stackoverflow.com/questions/19966018/pandas-filling-missing-values-by-mean-in-each-group\n",
    "for year in year_cols:\n",
    "    opioid_rx_df[year] = opioid_rx_df.groupby('state')[year].transform(lambda x: x.fillna(x.mean()))"
   ]
  },
  {
   "cell_type": "code",
   "execution_count": 19,
   "metadata": {},
   "outputs": [
    {
     "data": {
      "text/html": [
       "<div>\n",
       "<style scoped>\n",
       "    .dataframe tbody tr th:only-of-type {\n",
       "        vertical-align: middle;\n",
       "    }\n",
       "\n",
       "    .dataframe tbody tr th {\n",
       "        vertical-align: top;\n",
       "    }\n",
       "\n",
       "    .dataframe thead th {\n",
       "        text-align: right;\n",
       "    }\n",
       "</style>\n",
       "<table border=\"1\" class=\"dataframe\">\n",
       "  <thead>\n",
       "    <tr style=\"text-align: right;\">\n",
       "      <th></th>\n",
       "      <th>state</th>\n",
       "      <th>INCITS</th>\n",
       "      <th>opioid_rx_rate_2016</th>\n",
       "      <th>opioid_rx_rate_2015</th>\n",
       "      <th>opioid_rx_rate_2014</th>\n",
       "    </tr>\n",
       "  </thead>\n",
       "  <tbody>\n",
       "    <tr>\n",
       "      <th>0</th>\n",
       "      <td>AK</td>\n",
       "      <td>02013</td>\n",
       "      <td>56.366667</td>\n",
       "      <td>59.425</td>\n",
       "      <td>63.141667</td>\n",
       "    </tr>\n",
       "    <tr>\n",
       "      <th>1</th>\n",
       "      <td>AK</td>\n",
       "      <td>02016</td>\n",
       "      <td>56.366667</td>\n",
       "      <td>59.425</td>\n",
       "      <td>63.141667</td>\n",
       "    </tr>\n",
       "    <tr>\n",
       "      <th>2</th>\n",
       "      <td>AK</td>\n",
       "      <td>02020</td>\n",
       "      <td>66.300000</td>\n",
       "      <td>68.200</td>\n",
       "      <td>68.000000</td>\n",
       "    </tr>\n",
       "    <tr>\n",
       "      <th>3</th>\n",
       "      <td>AK</td>\n",
       "      <td>02050</td>\n",
       "      <td>56.366667</td>\n",
       "      <td>59.425</td>\n",
       "      <td>63.141667</td>\n",
       "    </tr>\n",
       "    <tr>\n",
       "      <th>4</th>\n",
       "      <td>AK</td>\n",
       "      <td>02060</td>\n",
       "      <td>56.366667</td>\n",
       "      <td>59.425</td>\n",
       "      <td>63.141667</td>\n",
       "    </tr>\n",
       "  </tbody>\n",
       "</table>\n",
       "</div>"
      ],
      "text/plain": [
       "  state INCITS  opioid_rx_rate_2016  opioid_rx_rate_2015  opioid_rx_rate_2014\n",
       "0    AK  02013            56.366667               59.425            63.141667\n",
       "1    AK  02016            56.366667               59.425            63.141667\n",
       "2    AK  02020            66.300000               68.200            68.000000\n",
       "3    AK  02050            56.366667               59.425            63.141667\n",
       "4    AK  02060            56.366667               59.425            63.141667"
      ]
     },
     "execution_count": 19,
     "metadata": {},
     "output_type": "execute_result"
    }
   ],
   "source": [
    "opioid_rx_df.head()"
   ]
  },
  {
   "cell_type": "code",
   "execution_count": 20,
   "metadata": {},
   "outputs": [],
   "source": [
    "with open('opioid_rx_df.pkl', 'wb') as picklefile:\n",
    "    pickle.dump(opioid_rx_df, picklefile)"
   ]
  },
  {
   "cell_type": "code",
   "execution_count": 22,
   "metadata": {},
   "outputs": [
    {
     "data": {
      "text/plain": [
       "(3143, 5)"
      ]
     },
     "execution_count": 22,
     "metadata": {},
     "output_type": "execute_result"
    }
   ],
   "source": []
  },
  {
   "cell_type": "code",
   "execution_count": null,
   "metadata": {},
   "outputs": [],
   "source": []
  }
 ],
 "metadata": {
  "kernelspec": {
   "display_name": "Python 3",
   "language": "python",
   "name": "python3"
  },
  "language_info": {
   "codemirror_mode": {
    "name": "ipython",
    "version": 3
   },
   "file_extension": ".py",
   "mimetype": "text/x-python",
   "name": "python",
   "nbconvert_exporter": "python",
   "pygments_lexer": "ipython3",
   "version": "3.6.5"
  }
 },
 "nbformat": 4,
 "nbformat_minor": 2
}
